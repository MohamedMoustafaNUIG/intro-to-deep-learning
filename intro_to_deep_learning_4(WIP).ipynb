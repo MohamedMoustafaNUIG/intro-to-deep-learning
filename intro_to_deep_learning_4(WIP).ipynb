{
 "cells": [
  {
   "cell_type": "code",
   "execution_count": 1,
   "metadata": {},
   "outputs": [],
   "source": [
    "import numpy as np\n",
    "import torch\n",
    "import torchvision\n",
    "import matplotlib.pyplot as plt\n",
    "from time import time\n",
    "from torchvision import datasets, transforms\n",
    "from torch import nn, optim"
   ]
  },
  {
   "cell_type": "markdown",
   "metadata": {},
   "source": [
    "Compose several transformaations together. ToTensor() converts the image into numbers, that are understandable by the system; The image now is a [TorchTensor](https://pytorch.org/docs/stable/torchvision/transforms.html). Normalize() normalizes the tensor with a mean and standard deviation which goes as the two parameters respectively."
   ]
  },
  {
   "cell_type": "code",
   "execution_count": 3,
   "metadata": {},
   "outputs": [],
   "source": [
    "transform = transforms.Compose([transforms.ToTensor(), transforms.Normalize((0.5,), (0.5,)), ])"
   ]
  },
  {
   "cell_type": "code",
   "execution_count": 4,
   "metadata": {},
   "outputs": [
    {
     "name": "stdout",
     "output_type": "stream",
     "text": [
      "Downloading http://yann.lecun.com/exdb/mnist/train-images-idx3-ubyte.gz to ./MNIST\\raw\\train-images-idx3-ubyte.gz\n"
     ]
    },
    {
     "name": "stderr",
     "output_type": "stream",
     "text": [
      "100%|█████████████████████████████████████████████████████████████████████▉| 9912320/9912422 [03:36<00:00, 35987.61it/s]"
     ]
    },
    {
     "name": "stdout",
     "output_type": "stream",
     "text": [
      "Extracting ./MNIST\\raw\\train-images-idx3-ubyte.gz to ./MNIST\\raw\n",
      "Downloading http://yann.lecun.com/exdb/mnist/train-labels-idx1-ubyte.gz to ./MNIST\\raw\\train-labels-idx1-ubyte.gz\n"
     ]
    },
    {
     "name": "stderr",
     "output_type": "stream",
     "text": [
      "\n",
      "0it [00:00, ?it/s]\n",
      "  0%|                                                                                         | 0/28881 [00:00<?, ?it/s]\n",
      "32768it [00:00, 70127.85it/s]                                                                                           "
     ]
    },
    {
     "name": "stdout",
     "output_type": "stream",
     "text": [
      "Extracting ./MNIST\\raw\\train-labels-idx1-ubyte.gz to ./MNIST\\raw\n",
      "Downloading http://yann.lecun.com/exdb/mnist/t10k-images-idx3-ubyte.gz to ./MNIST\\raw\\t10k-images-idx3-ubyte.gz\n"
     ]
    },
    {
     "name": "stderr",
     "output_type": "stream",
     "text": [
      "\n",
      "0it [00:00, ?it/s]\n",
      "  0%|                                                                                       | 0/1648877 [00:00<?, ?it/s]\n",
      "  2%|█▍                                                                     | 32768/1648877 [00:00<00:08, 179845.66it/s]\n",
      "  4%|███▏                                                                   | 73728/1648877 [00:00<00:07, 207196.55it/s]\n",
      "  5%|███▉                                                                   | 90112/1648877 [00:00<00:10, 149086.95it/s]\n",
      "  8%|█████▌                                                                | 131072/1648877 [00:01<00:08, 180260.44it/s]\n",
      "  9%|██████▌                                                               | 155648/1648877 [00:01<00:12, 123222.46it/s]\n",
      " 10%|███████▎                                                              | 172032/1648877 [00:01<00:11, 132796.34it/s]\n",
      " 11%|████████                                                               | 188416/1648877 [00:01<00:19, 76038.83it/s]\n",
      " 12%|████████▊                                                              | 204800/1648877 [00:02<00:19, 74185.71it/s]\n",
      " 13%|█████████▌                                                             | 221184/1648877 [00:02<00:23, 61731.17it/s]\n",
      " 14%|██████████▏                                                            | 237568/1648877 [00:02<00:22, 63409.86it/s]\n",
      " 15%|██████████▌                                                            | 245760/1648877 [00:02<00:22, 62200.05it/s]\n",
      " 15%|██████████▉                                                            | 253952/1648877 [00:03<00:21, 66113.11it/s]\n",
      " 16%|███████████▋                                                           | 270336/1648877 [00:03<00:19, 70988.44it/s]\n",
      " 17%|███████████▉                                                           | 278528/1648877 [00:03<00:18, 73563.33it/s]\n",
      " 18%|████████████▋                                                          | 294912/1648877 [00:03<00:21, 63220.80it/s]\n",
      " 19%|█████████████▊                                                         | 319488/1648877 [00:04<00:21, 62292.94it/s]\n",
      " 20%|██████████████                                                         | 327680/1648877 [00:04<00:26, 49051.79it/s]\n",
      " 20%|██████████████▍                                                        | 335872/1648877 [00:04<00:25, 52189.93it/s]\n",
      " 21%|██████████████▊                                                        | 344064/1648877 [00:04<00:30, 43070.23it/s]\n",
      " 21%|███████████████▏                                                       | 352256/1648877 [00:04<00:30, 43164.33it/s]\n",
      " 22%|███████████████▌                                                       | 360448/1648877 [00:05<00:36, 35093.94it/s]\n",
      " 22%|███████████████▊                                                       | 368640/1648877 [00:05<00:34, 37189.89it/s]\n",
      " 23%|████████████████▏                                                      | 376832/1648877 [00:05<00:30, 41962.82it/s]\n",
      " 23%|████████████████▌                                                      | 385024/1648877 [00:05<00:27, 46235.71it/s]\n",
      " 24%|████████████████▉                                                      | 393216/1648877 [00:05<00:28, 44086.67it/s]\n",
      " 24%|█████████████████▎                                                     | 401408/1648877 [00:06<00:28, 44024.68it/s]\n",
      " 25%|█████████████████▉                                                     | 417792/1648877 [00:06<00:26, 47305.69it/s]\n",
      " 26%|██████████████████▎                                                    | 425984/1648877 [00:06<00:24, 50790.34it/s]\n",
      " 26%|██████████████████▋                                                    | 434176/1648877 [00:06<00:21, 57201.13it/s]\n",
      " 27%|███████████████████▍                                                   | 450560/1648877 [00:07<00:26, 45355.62it/s]\n",
      " 28%|████████████████████                                                   | 466944/1648877 [00:07<00:20, 57041.05it/s]\n",
      " 29%|████████████████████▍                                                  | 475136/1648877 [00:07<00:21, 53694.18it/s]\n",
      " 30%|█████████████████████▏                                                 | 491520/1648877 [00:07<00:19, 60532.62it/s]\n",
      " 30%|█████████████████████▌                                                 | 499712/1648877 [00:07<00:24, 46617.82it/s]\n",
      " 31%|██████████████████████▏                                                | 516096/1648877 [00:08<00:24, 46616.13it/s]\n",
      " 32%|██████████████████████▌                                                | 524288/1648877 [00:08<00:24, 45693.37it/s]\n",
      " 32%|██████████████████████▉                                                | 532480/1648877 [00:08<00:22, 49320.31it/s]\n",
      " 33%|███████████████████████▎                                               | 540672/1648877 [00:08<00:22, 48412.38it/s]\n",
      " 33%|███████████████████████▋                                               | 548864/1648877 [00:08<00:20, 54052.04it/s]\n",
      " 34%|████████████████████████▎                                              | 565248/1648877 [00:09<00:20, 51846.02it/s]\n",
      " 35%|████████████████████████▋                                              | 573440/1648877 [00:09<00:23, 45666.98it/s]\n",
      " 35%|█████████████████████████                                              | 581632/1648877 [00:09<00:24, 43528.44it/s]\n",
      " 36%|█████████████████████████▍                                             | 589824/1648877 [00:09<00:27, 38353.57it/s]\n",
      " 36%|█████████████████████████▊                                             | 598016/1648877 [00:10<00:27, 38195.72it/s]\n",
      " 37%|██████████████████████████                                             | 606208/1648877 [00:10<00:32, 32219.10it/s]\n",
      " 37%|██████████████████████████▍                                            | 614400/1648877 [00:11<00:41, 25049.94it/s]\n",
      "9920512it [03:49, 35987.61it/s]                                                                                         \n",
      " 38%|███████████████████████████▏                                           | 630784/1648877 [00:11<00:39, 26078.03it/s]\n",
      " 39%|███████████████████████████▌                                           | 638976/1648877 [00:12<00:47, 21361.78it/s]\n",
      " 39%|███████████████████████████▊                                           | 647168/1648877 [00:12<00:44, 22364.89it/s]\n",
      " 40%|████████████████████████████▌                                          | 663552/1648877 [00:12<00:39, 25099.55it/s]\n",
      " 41%|█████████████████████████████▎                                         | 679936/1648877 [00:13<00:29, 32827.76it/s]\n",
      " 42%|█████████████████████████████▋                                         | 688128/1648877 [00:13<00:36, 26085.68it/s]\n",
      " 42%|█████████████████████████████▉                                         | 696320/1648877 [00:13<00:36, 26312.00it/s]\n",
      " 43%|██████████████████████████████▎                                        | 704512/1648877 [00:14<00:31, 29780.77it/s]\n",
      " 44%|███████████████████████████████                                        | 720896/1648877 [00:14<00:31, 29793.16it/s]\n",
      " 45%|███████████████████████████████▋                                       | 737280/1648877 [00:15<00:30, 30287.75it/s]\n",
      " 45%|████████████████████████████████                                       | 745472/1648877 [00:15<00:41, 21795.33it/s]\n",
      " 46%|████████████████████████████████▍                                      | 753664/1648877 [00:16<00:39, 22713.74it/s]\n",
      " 46%|████████████████████████████████▊                                      | 761856/1648877 [00:16<00:33, 26484.75it/s]\n",
      " 47%|█████████████████████████████████▏                                     | 770048/1648877 [00:16<00:29, 29874.18it/s]\n",
      " 47%|█████████████████████████████████▌                                     | 778240/1648877 [00:16<00:29, 29481.68it/s]\n",
      " 48%|█████████████████████████████████▊                                     | 786432/1648877 [00:17<00:43, 19989.86it/s]\n",
      " 48%|██████████████████████████████████▏                                    | 794624/1648877 [00:17<00:38, 22031.22it/s]\n",
      " 49%|██████████████████████████████████▌                                    | 802816/1648877 [00:17<00:30, 27884.76it/s]\n",
      " 49%|██████████████████████████████████▉                                    | 811008/1648877 [00:18<00:26, 31180.88it/s]\n"
     ]
    },
    {
     "name": "stderr",
     "output_type": "stream",
     "text": [
      " 50%|███████████████████████████████████▎                                   | 819200/1648877 [00:18<00:23, 35679.92it/s]\n",
      " 51%|███████████████████████████████████▉                                   | 835584/1648877 [00:18<00:18, 43230.77it/s]\n",
      " 52%|████████████████████████████████████▋                                  | 851968/1648877 [00:18<00:18, 43418.38it/s]\n",
      " 53%|█████████████████████████████████████▍                                 | 868352/1648877 [00:18<00:14, 52492.13it/s]\n",
      " 53%|█████████████████████████████████████▋                                 | 876544/1648877 [00:19<00:13, 55460.53it/s]\n",
      " 54%|██████████████████████████████████████▍                                | 892928/1648877 [00:19<00:12, 61831.50it/s]\n",
      " 55%|██████████████████████████████████████▊                                | 901120/1648877 [00:19<00:12, 58523.81it/s]\n",
      " 55%|███████████████████████████████████████▏                               | 909312/1648877 [00:19<00:13, 54811.96it/s]\n",
      " 56%|███████████████████████████████████████▊                               | 925696/1648877 [00:19<00:14, 51093.20it/s]\n",
      " 58%|████████████████████████████████████████▉                              | 950272/1648877 [00:20<00:11, 58727.74it/s]\n",
      " 59%|█████████████████████████████████████████▌                             | 966656/1648877 [00:20<00:11, 61539.51it/s]\n",
      " 60%|██████████████████████████████████████████▎                            | 983040/1648877 [00:20<00:10, 65309.16it/s]\n",
      " 60%|██████████████████████████████████████████▋                            | 991232/1648877 [00:20<00:14, 46941.16it/s]\n",
      " 61%|██████████████████████████████████████████▊                           | 1007616/1648877 [00:21<00:11, 58013.06it/s]\n",
      " 62%|███████████████████████████████████████████                           | 1015808/1648877 [00:21<00:13, 48302.45it/s]\n",
      " 63%|███████████████████████████████████████████▊                          | 1032192/1648877 [00:21<00:11, 53735.75it/s]\n",
      " 64%|████████████████████████████████████████████▌                         | 1048576/1648877 [00:21<00:10, 59862.62it/s]\n",
      " 64%|████████████████████████████████████████████▊                         | 1056768/1648877 [00:21<00:09, 60179.19it/s]\n",
      " 65%|█████████████████████████████████████████████▌                        | 1073152/1648877 [00:22<00:10, 54671.51it/s]\n",
      " 66%|██████████████████████████████████████████████▎                       | 1089536/1648877 [00:22<00:10, 53223.62it/s]\n",
      " 67%|██████████████████████████████████████████████▌                       | 1097728/1648877 [00:22<00:10, 54601.61it/s]\n",
      " 67%|██████████████████████████████████████████████▉                       | 1105920/1648877 [00:22<00:09, 60012.73it/s]\n",
      " 68%|███████████████████████████████████████████████▎                      | 1114112/1648877 [00:22<00:08, 64945.35it/s]\n",
      " 69%|███████████████████████████████████████████████▉                      | 1130496/1648877 [00:23<00:07, 66723.43it/s]\n",
      " 69%|████████████████████████████████████████████████▎                     | 1138688/1648877 [00:23<00:08, 57173.10it/s]\n",
      " 70%|█████████████████████████████████████████████████                     | 1155072/1648877 [00:23<00:08, 58553.28it/s]\n",
      " 71%|█████████████████████████████████████████████████▋                    | 1171456/1648877 [00:23<00:07, 64604.97it/s]\n",
      " 72%|██████████████████████████████████████████████████                    | 1179648/1648877 [00:23<00:08, 54749.71it/s]\n",
      " 73%|██████████████████████████████████████████████████▊                   | 1196032/1648877 [00:24<00:07, 61451.15it/s]\n",
      " 73%|███████████████████████████████████████████████████                   | 1204224/1648877 [00:24<00:08, 54402.33it/s]\n",
      " 74%|███████████████████████████████████████████████████▊                  | 1220608/1648877 [00:24<00:06, 65198.88it/s]\n",
      " 75%|████████████████████████████████████████████████████▏                 | 1228800/1648877 [00:24<00:07, 58338.73it/s]\n",
      " 76%|████████████████████████████████████████████████████▊                 | 1245184/1648877 [00:24<00:06, 57798.38it/s]\n",
      " 77%|█████████████████████████████████████████████████████▌                | 1261568/1648877 [00:25<00:07, 52183.85it/s]\n",
      " 78%|██████████████████████████████████████████████████████▎               | 1277952/1648877 [00:25<00:06, 53623.13it/s]\n",
      " 78%|██████████████████████████████████████████████████████▌               | 1286144/1648877 [00:25<00:07, 46713.80it/s]\n",
      " 78%|██████████████████████████████████████████████████████▉               | 1294336/1648877 [00:25<00:06, 53216.10it/s]\n",
      " 79%|███████████████████████████████████████████████████████▋              | 1310720/1648877 [00:26<00:05, 59636.82it/s]\n",
      " 80%|███████████████████████████████████████████████████████▉              | 1318912/1648877 [00:26<00:05, 59375.17it/s]\n",
      " 80%|████████████████████████████████████████████████████████▎             | 1327104/1648877 [00:26<00:06, 49502.58it/s]\n",
      " 81%|█████████████████████████████████████████████████████████             | 1343488/1648877 [00:26<00:05, 53746.10it/s]\n",
      " 82%|█████████████████████████████████████████████████████████▋            | 1359872/1648877 [00:27<00:05, 53215.65it/s]\n",
      " 83%|██████████████████████████████████████████████████████████▍           | 1376256/1648877 [00:27<00:04, 60194.80it/s]\n",
      " 84%|██████████████████████████████████████████████████████████▊           | 1384448/1648877 [00:27<00:04, 60349.62it/s]\n",
      " 84%|███████████████████████████████████████████████████████████           | 1392640/1648877 [00:27<00:05, 47020.04it/s]\n",
      " 85%|███████████████████████████████████████████████████████████▊          | 1409024/1648877 [00:27<00:04, 53026.76it/s]\n",
      " 86%|████████████████████████████████████████████████████████████▌         | 1425408/1648877 [00:28<00:04, 51329.68it/s]\n",
      " 87%|█████████████████████████████████████████████████████████████▏        | 1441792/1648877 [00:28<00:03, 58484.11it/s]\n",
      " 88%|█████████████████████████████████████████████████████████████▌        | 1449984/1648877 [00:28<00:04, 44622.36it/s]\n",
      " 88%|█████████████████████████████████████████████████████████████▉        | 1458176/1648877 [00:28<00:04, 46575.43it/s]\n",
      " 89%|██████████████████████████████████████████████████████████████▎       | 1466368/1648877 [00:28<00:03, 50570.71it/s]\n",
      " 89%|██████████████████████████████████████████████████████████████▌       | 1474560/1648877 [00:29<00:03, 47680.22it/s]\n",
      " 90%|██████████████████████████████████████████████████████████████▉       | 1482752/1648877 [00:29<00:03, 54267.15it/s]\n",
      " 91%|███████████████████████████████████████████████████████████████▋      | 1499136/1648877 [00:29<00:02, 53803.64it/s]\n",
      " 92%|████████████████████████████████████████████████████████████████▎     | 1515520/1648877 [00:29<00:02, 60442.20it/s]\n",
      " 92%|████████████████████████████████████████████████████████████████▋     | 1523712/1648877 [00:29<00:02, 54081.73it/s]\n",
      " 93%|█████████████████████████████████████████████████████████████████▍    | 1540096/1648877 [00:30<00:01, 60831.43it/s]\n",
      " 94%|██████████████████████████████████████████████████████████████████    | 1556480/1648877 [00:30<00:01, 66514.99it/s]\n",
      " 95%|██████████████████████████████████████████████████████████████████▊   | 1572864/1648877 [00:30<00:01, 71540.91it/s]\n",
      " 96%|███████████████████████████████████████████████████████████████████   | 1581056/1648877 [00:30<00:01, 59312.28it/s]\n",
      " 97%|███████████████████████████████████████████████████████████████████▊  | 1597440/1648877 [00:30<00:00, 70115.62it/s]\n",
      " 98%|████████████████████████████████████████████████████████████████████▌ | 1613824/1648877 [00:31<00:00, 53572.84it/s]\n",
      " 99%|█████████████████████████████████████████████████████████████████████▏| 1630208/1648877 [00:31<00:00, 63297.10it/s]\n",
      "100%|█████████████████████████████████████████████████████████████████████▉| 1646592/1648877 [00:31<00:00, 57716.25it/s]"
     ]
    },
    {
     "name": "stdout",
     "output_type": "stream",
     "text": [
      "Extracting ./MNIST\\raw\\t10k-images-idx3-ubyte.gz to ./MNIST\\raw\n",
      "Downloading http://yann.lecun.com/exdb/mnist/t10k-labels-idx1-ubyte.gz to ./MNIST\\raw\\t10k-labels-idx1-ubyte.gz\n"
     ]
    },
    {
     "name": "stderr",
     "output_type": "stream",
     "text": [
      "\n",
      "\n",
      "0it [00:00, ?it/s]\n",
      "\n",
      "  0%|                                                                                          | 0/4542 [00:00<?, ?it/s]\n",
      "\n",
      "8192it [00:01, 30061.59it/s]                                                                                            "
     ]
    },
    {
     "name": "stdout",
     "output_type": "stream",
     "text": [
      "Extracting ./MNIST\\raw\\t10k-labels-idx1-ubyte.gz to ./MNIST\\raw\n",
      "Processing...\n",
      "Done!\n"
     ]
    },
    {
     "name": "stderr",
     "output_type": "stream",
     "text": [
      "\n",
      "1654784it [00:51, 57716.25it/s]                                                                                         "
     ]
    }
   ],
   "source": [
    "trainset = datasets.MNIST('./', download=True, train=True, transform=transform)\n",
    "valset = datasets.MNIST('./', download=True, train=False, transform=transform)\n",
    "trainloader = torch.utils.data.DataLoader(trainset, batch_size=64, shuffle=True)\n",
    "valloader = torch.utils.data.DataLoader(valset, batch_size=64, shuffle=True)"
   ]
  },
  {
   "cell_type": "markdown",
   "metadata": {},
   "source": [
    "Create an iterable object from training set. Note: There are 64 images in each batch and each image has a dimension of 28 x 28 pixels."
   ]
  },
  {
   "cell_type": "code",
   "execution_count": 8,
   "metadata": {},
   "outputs": [
    {
     "name": "stdout",
     "output_type": "stream",
     "text": [
      "torch.Size([64, 1, 28, 28])\n",
      "torch.Size([64])\n"
     ]
    }
   ],
   "source": [
    "dataiter = iter(trainloader)\n",
    "images, labels = dataiter.next()\n",
    "\n",
    "print(images.shape)\n",
    "print(labels.shape)"
   ]
  },
  {
   "cell_type": "code",
   "execution_count": 9,
   "metadata": {},
   "outputs": [
    {
     "data": {
      "image/png": "[encoded data removed]",
      "text/plain": [
       "<Figure size 432x288 with 1 Axes>"
      ]
     },
     "metadata": {
      "needs_background": "light"
     },
     "output_type": "display_data"
    }
   ],
   "source": [
    "plt.imshow(images[0].numpy().squeeze(), cmap='gray_r');"
   ]
  },
  {
   "cell_type": "code",
   "execution_count": 16,
   "metadata": {},
   "outputs": [
    {
     "data": {
      "image/png": "[encoded data removed]",
      "text/plain": [
       "<Figure size 432x288 with 60 Axes>"
      ]
     },
     "metadata": {
      "needs_background": "light"
     },
     "output_type": "display_data"
    }
   ],
   "source": [
    "figure = plt.figure()\n",
    "num_of_images = 60\n",
    "for index in range(1, num_of_images+1):\n",
    "    plt.subplot(6, 10, index)\n",
    "    plt.axis('off')\n",
    "    plt.imshow(images[index].numpy().squeeze(), cmap='gray_r')"
   ]
  },
  {
   "cell_type": "markdown",
   "metadata": {},
   "source": [
    "Figure showing Neural Network: https://miro.medium.com/max/787/1*HWhBextdDSkxYvz0kEMTVg.png"
   ]
  },
  {
   "cell_type": "code",
   "execution_count": 17,
   "metadata": {},
   "outputs": [
    {
     "name": "stdout",
     "output_type": "stream",
     "text": [
      "Sequential(\n",
      "  (0): Linear(in_features=784, out_features=128, bias=True)\n",
      "  (1): ReLU()\n",
      "  (2): Linear(in_features=128, out_features=64, bias=True)\n",
      "  (3): ReLU()\n",
      "  (4): Linear(in_features=64, out_features=10, bias=True)\n",
      "  (5): LogSoftmax()\n",
      ")\n"
     ]
    }
   ],
   "source": [
    "input_size = 784\n",
    "hidden_sizes = [128, 64]\n",
    "output_size = 10\n",
    "\n",
    "model = nn.Sequential(nn.Linear(input_size, hidden_sizes[0]), \n",
    "                      nn.ReLU(), \n",
    "                      nn.Linear(hidden_sizes[0], hidden_sizes[1]),\n",
    "                      nn.ReLU(), \n",
    "                      nn.Linear(hidden_sizes[1], output_size), \n",
    "                      nn.LogSoftmax(dim=1))\n",
    "print(model)"
   ]
  },
  {
   "cell_type": "code",
   "execution_count": 18,
   "metadata": {},
   "outputs": [],
   "source": [
    "criterion = nn.NLLLoss()\n",
    "images, labels = next(iter(trainloader))\n",
    "images = images.view(images.shape[0], -1)\n",
    "\n",
    "logps = model(images) #log probabilities\n",
    "loss = criterion(logps, labels) #calculate the NLL loss"
   ]
  },
  {
   "cell_type": "code",
   "execution_count": 19,
   "metadata": {},
   "outputs": [
    {
     "name": "stdout",
     "output_type": "stream",
     "text": [
      "Before backward pass: \n",
      " None\n",
      "After backward pass: \n",
      " tensor([[-5.2696e-04, -5.2696e-04, -5.2696e-04,  ..., -5.2696e-04,\n",
      "         -5.2696e-04, -5.2696e-04],\n",
      "        [-3.2881e-03, -3.2881e-03, -3.2881e-03,  ..., -3.2881e-03,\n",
      "         -3.2881e-03, -3.2881e-03],\n",
      "        [-2.0027e-03, -2.0027e-03, -2.0027e-03,  ..., -2.0027e-03,\n",
      "         -2.0027e-03, -2.0027e-03],\n",
      "        ...,\n",
      "        [ 4.1845e-03,  4.1845e-03,  4.1845e-03,  ...,  4.1845e-03,\n",
      "          4.1845e-03,  4.1845e-03],\n",
      "        [-4.8785e-05, -4.8785e-05, -4.8785e-05,  ..., -4.8784e-05,\n",
      "         -4.8784e-05, -4.8784e-05],\n",
      "        [-3.6360e-03, -3.6360e-03, -3.6360e-03,  ..., -3.6360e-03,\n",
      "         -3.6360e-03, -3.6360e-03]])\n"
     ]
    }
   ],
   "source": [
    "print('Before backward pass: \\n', model[0].weight.grad)\n",
    "loss.backward()\n",
    "print('After backward pass: \\n', model[0].weight.grad)"
   ]
  },
  {
   "cell_type": "code",
   "execution_count": 20,
   "metadata": {},
   "outputs": [
    {
     "name": "stdout",
     "output_type": "stream",
     "text": [
      "Epoch 0 - Training loss: 0.6329264893397085\n",
      "Epoch 1 - Training loss: 0.277184764260867\n",
      "Epoch 2 - Training loss: 0.21341604699315167\n",
      "Epoch 3 - Training loss: 0.1727298393027424\n",
      "Epoch 4 - Training loss: 0.1455972737440073\n",
      "Epoch 5 - Training loss: 0.12396125450059137\n",
      "Epoch 6 - Training loss: 0.11053153017817784\n",
      "Epoch 7 - Training loss: 0.0982622223914162\n",
      "Epoch 8 - Training loss: 0.08797078654031033\n",
      "Epoch 9 - Training loss: 0.08048437252841287\n",
      "Epoch 10 - Training loss: 0.07249508432146393\n",
      "Epoch 11 - Training loss: 0.06673339834418902\n",
      "Epoch 12 - Training loss: 0.06269368057291626\n",
      "Epoch 13 - Training loss: 0.05690202516327892\n",
      "Epoch 14 - Training loss: 0.05200258208570807\n",
      "\n",
      "Training Time (in minutes) = 4.298671102523803\n"
     ]
    }
   ],
   "source": [
    "optimizer = optim.SGD(model.parameters(), lr=0.003, momentum=0.9)\n",
    "time0 = time()\n",
    "epochs = 15\n",
    "for e in range(epochs):\n",
    "    running_loss = 0\n",
    "    for images, labels in trainloader:\n",
    "        # Flatten MNIST images into a 784 long vector\n",
    "        images = images.view(images.shape[0], -1)\n",
    "    \n",
    "        # Training pass\n",
    "        optimizer.zero_grad()\n",
    "        \n",
    "        output = model(images)\n",
    "        loss = criterion(output, labels)\n",
    "        \n",
    "        #This is where the model learns by backpropagating\n",
    "        loss.backward()\n",
    "        \n",
    "        #And optimizes its weights here\n",
    "        optimizer.step()\n",
    "        \n",
    "        running_loss += loss.item()\n",
    "    else:\n",
    "        print(\"Epoch {} - Training loss: {}\".format(e, running_loss/len(trainloader)))\n",
    "print(\"\\nTraining Time (in minutes) =\",(time()-time0)/60)"
   ]
  },
  {
   "cell_type": "code",
   "execution_count": 22,
   "metadata": {},
   "outputs": [],
   "source": [
    "\n",
    "def view_classify(img, ps):\n",
    "    ''' Function for viewing an image and it's predicted classes.\n",
    "    '''\n",
    "    ps = ps.data.numpy().squeeze()\n",
    "\n",
    "    fig, (ax1, ax2) = plt.subplots(figsize=(6,9), ncols=2)\n",
    "    ax1.imshow(img.resize_(1, 28, 28).numpy().squeeze())\n",
    "    ax1.axis('off')\n",
    "    ax2.barh(np.arange(10), ps)\n",
    "    ax2.set_aspect(0.1)\n",
    "    ax2.set_yticks(np.arange(10))\n",
    "    ax2.set_yticklabels(np.arange(10))\n",
    "    ax2.set_title('Class Probability')\n",
    "    ax2.set_xlim(0, 1.1)\n",
    "    plt.tight_layout()"
   ]
  },
  {
   "cell_type": "code",
   "execution_count": 23,
   "metadata": {},
   "outputs": [
    {
     "name": "stdout",
     "output_type": "stream",
     "text": [
      "Predicted Digit = 4\n"
     ]
    },
    {
     "data": {
      "image/png": "[encoded data removed]",
      "text/plain": [
       "<Figure size 432x648 with 2 Axes>"
      ]
     },
     "metadata": {
      "needs_background": "light"
     },
     "output_type": "display_data"
    }
   ],
   "source": [
    "images, labels = next(iter(valloader))\n",
    "\n",
    "img = images[0].view(1, 784)\n",
    "with torch.no_grad():\n",
    "    logps = model(img)\n",
    "\n",
    "ps = torch.exp(logps)\n",
    "probab = list(ps.numpy()[0])\n",
    "print(\"Predicted Digit =\", probab.index(max(probab)))\n",
    "view_classify(img.view(1, 28, 28), ps)"
   ]
  },
  {
   "cell_type": "code",
   "execution_count": 24,
   "metadata": {},
   "outputs": [
    {
     "name": "stdout",
     "output_type": "stream",
     "text": [
      "Number Of Images Tested = 10000\n",
      "\n",
      "Model Accuracy = 0.9744\n"
     ]
    }
   ],
   "source": [
    "correct_count, all_count = 0, 0\n",
    "for images,labels in valloader:\n",
    "  for i in range(len(labels)):\n",
    "    img = images[i].view(1, 784)\n",
    "    with torch.no_grad():\n",
    "        logps = model(img)\n",
    "\n",
    "    \n",
    "    ps = torch.exp(logps)\n",
    "    probab = list(ps.numpy()[0])\n",
    "    pred_label = probab.index(max(probab))\n",
    "    true_label = labels.numpy()[i]\n",
    "    if(true_label == pred_label):\n",
    "      correct_count += 1\n",
    "    all_count += 1\n",
    "\n",
    "print(\"Number Of Images Tested =\", all_count)\n",
    "print(\"\\nModel Accuracy =\", (correct_count/all_count))"
   ]
  },
  {
   "cell_type": "code",
   "execution_count": 25,
   "metadata": {},
   "outputs": [],
   "source": [
    "torch.save(model, './mnist_model.pt')"
   ]
  },
  {
   "cell_type": "code",
   "execution_count": null,
   "metadata": {},
   "outputs": [],
   "source": []
  }
 ],
 "metadata": {
  "kernelspec": {
   "display_name": "Python 3",
   "language": "python",
   "name": "python3"
  },
  "language_info": {
   "codemirror_mode": {
    "name": "ipython",
    "version": 3
   },
   "file_extension": ".py",
   "mimetype": "text/x-python",
   "name": "python",
   "nbconvert_exporter": "python",
   "pygments_lexer": "ipython3",
   "version": "3.7.4"
  }
 },
 "nbformat": 4,
 "nbformat_minor": 2
}
